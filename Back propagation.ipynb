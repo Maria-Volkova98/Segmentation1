{
 "cells": [
  {
   "cell_type": "code",
   "execution_count": 1,
   "id": "e8072f67",
   "metadata": {},
   "outputs": [],
   "source": [
    "import torch\n",
    "import numpy as np\n",
    "import os\n",
    "import torchvision\n",
    "import torchvision.datasets\n",
    "import torchvision.transforms\n",
    "import torch.utils.data\n",
    "#from matplotlib import pyplot as plot\n",
    "import matplotlib.pyplot as plt\n",
    "import math"
   ]
  },
  {
   "cell_type": "code",
   "execution_count": 2,
   "id": "f41ed38a",
   "metadata": {},
   "outputs": [
    {
     "data": {
      "text/plain": [
       "dict_keys(['data', 'target', 'frame', 'feature_names', 'target_names', 'images', 'DESCR'])"
      ]
     },
     "execution_count": 2,
     "metadata": {},
     "output_type": "execute_result"
    }
   ],
   "source": [
    "from sklearn.datasets import load_digits\n",
    "digits = load_digits()\n",
    "digits.keys()"
   ]
  },
  {
   "cell_type": "code",
   "execution_count": 3,
   "id": "3471687f",
   "metadata": {},
   "outputs": [
    {
     "data": {
      "text/plain": [
       "array([0, 1, 2, 3, 4, 5, 6, 7, 8, 9])"
      ]
     },
     "execution_count": 3,
     "metadata": {},
     "output_type": "execute_result"
    }
   ],
   "source": [
    "digits.target_names"
   ]
  },
  {
   "cell_type": "code",
   "execution_count": 4,
   "id": "15506567",
   "metadata": {},
   "outputs": [
    {
     "name": "stdout",
     "output_type": "stream",
     "text": [
      "(1797, 64)\n",
      "(1797,)\n"
     ]
    }
   ],
   "source": [
    "X = digits.data\n",
    "y = digits.target\n",
    "print(X.shape)\n",
    "print(y.shape)"
   ]
  },
  {
   "cell_type": "code",
   "execution_count": 5,
   "id": "3c25f0e0",
   "metadata": {},
   "outputs": [
    {
     "data": {
      "image/png": "[encoded data removed]",
      "text/plain": [
       "<Figure size 720x720 with 64 Axes>"
      ]
     },
     "metadata": {},
     "output_type": "display_data"
    }
   ],
   "source": [
    "plt.figure(figsize = (10, 10)) # Размер окна в дюймах\n",
    "for i in range(64):\n",
    "    plt.subplot(8, 8, i + 1)\n",
    "    plt.xticks([])\n",
    "    plt.yticks([])\n",
    "    plt.imshow(np.reshape(X[i, :], (8, 8)), interpolation = 'nearest')\n",
    "    plt.text(0, 7, str(digits.target[i]), color = 'b')\n",
    "    plt.set_cmap('binary')"
   ]
  },
  {
   "cell_type": "code",
   "execution_count": 6,
   "id": "ee57e71f",
   "metadata": {},
   "outputs": [],
   "source": [
    "\n",
    "from sklearn.model_selection import train_test_split\n",
    "#from sklearn.cross_validation import train_test_split\n",
    "\n",
    "X_train, X_test, y_train, y_test = train_test_split(X, y, test_size = 0.33, \n",
    "                                                    random_state = 7)\n"
   ]
  },
  {
   "cell_type": "code",
   "execution_count": 7,
   "id": "61c04730",
   "metadata": {},
   "outputs": [
    {
     "name": "stdout",
     "output_type": "stream",
     "text": [
      "(1203, 64)\n",
      "(1203,)\n"
     ]
    }
   ],
   "source": [
    "print(X_train.shape)\n",
    "print(y_train.shape)"
   ]
  },
  {
   "cell_type": "code",
   "execution_count": 8,
   "id": "0d7b7858",
   "metadata": {},
   "outputs": [
    {
     "name": "stdout",
     "output_type": "stream",
     "text": [
      "(100, 64)\n"
     ]
    }
   ],
   "source": [
    "X_train1 = X_train[0:100]\n",
    "y_train1 = y_train[0:100]\n",
    "print(X_train1.shape)"
   ]
  },
  {
   "cell_type": "code",
   "execution_count": 9,
   "id": "a6baf2e7",
   "metadata": {},
   "outputs": [],
   "source": [
    "def basic_sigmoid(x):\n",
    "    s = 1/(1+math.exp(-x))\n",
    "    return s"
   ]
  },
  {
   "cell_type": "code",
   "execution_count": 10,
   "id": "7d35858d",
   "metadata": {},
   "outputs": [],
   "source": [
    "def softmax(x):\n",
    "    e_x = np.exp(x - np.max(x))\n",
    "    return e_x / e_x.sum()"
   ]
  },
  {
   "cell_type": "code",
   "execution_count": 11,
   "id": "35761e9e",
   "metadata": {},
   "outputs": [],
   "source": [
    "def basic_sigmoiddif(x):\n",
    "    s = []\n",
    "    for i in range (len(x)):\n",
    "        s.append(x[i]*(1-x[i]))\n",
    "    return s"
   ]
  },
  {
   "cell_type": "code",
   "execution_count": 14,
   "id": "db8ad8df",
   "metadata": {},
   "outputs": [],
   "source": [
    "def NeuralNetFit(X, Y):\n",
    "    \n",
    "    rho = 0\n",
    "    nepoch = 100\n",
    "    m1 = 100\n",
    "    N, d = X.shape\n",
    "    K = Y.shape[0]\n",
    "    o = 10\n",
    "\n",
    "    W = np.random.randn(m1, d)\n",
    "    W\n",
    "    V = np.random.randn(o, m1)\n",
    "    w = np.random.randn(m1)\n",
    "    v = np.random.randn(K)\n",
    "    \n",
    "  \n",
    "    for epoch in range(nepoch):\n",
    "        for i in range(N):\n",
    "            x = X[i, :]\n",
    "            y = Y[i]\n",
    "            \n",
    "            # Прямой ход\n",
    "            s = W.dot(x)+w\n",
    "\n",
    "            z = [ ]\n",
    "            for i in range(100):\n",
    "                z.append(basic_sigmoid(s[i])) #sigmoid(s) \n",
    "            print(len(V))\n",
    "            t = V@z + v\n",
    "            \n",
    "            g = softmax(t)\n",
    "            \n",
    "            # Обратный ход\n",
    "            delta_t = g - y\n",
    "            delta_z = delta_t@V\n",
    "            delta_s = delta_z*basic_sigmoiddif(z)\n",
    "            \n",
    "            W = W - rho*np.outer(delta_s, x)\n",
    "            V = V - rho*np.outer(delta_t, z)\n",
    "            w = w - rho*delta_s\n",
    "            v = v - rho * delta_t\n",
    "            \n",
    "    return W,w,V,v"
   ]
  },
  {
   "cell_type": "code",
   "execution_count": 15,
   "id": "4d7dc91a",
   "metadata": {},
   "outputs": [
    {
     "name": "stdout",
     "output_type": "stream",
     "text": [
      "10\n"
     ]
    },
    {
     "ename": "ValueError",
     "evalue": "operands could not be broadcast together with shapes (10,) (100,) ",
     "output_type": "error",
     "traceback": [
      "\u001b[1;31m---------------------------------------------------------------------------\u001b[0m",
      "\u001b[1;31mValueError\u001b[0m                                Traceback (most recent call last)",
      "\u001b[1;32m<ipython-input-15-2c699d625cff>\u001b[0m in \u001b[0;36m<module>\u001b[1;34m\u001b[0m\n\u001b[1;32m----> 1\u001b[1;33m \u001b[0mW\u001b[0m\u001b[1;33m,\u001b[0m\u001b[0mw\u001b[0m\u001b[1;33m,\u001b[0m\u001b[0mV\u001b[0m\u001b[1;33m,\u001b[0m\u001b[0mv\u001b[0m\u001b[1;33m=\u001b[0m\u001b[0mNeuralNetFit\u001b[0m\u001b[1;33m(\u001b[0m\u001b[0mX_train1\u001b[0m\u001b[1;33m,\u001b[0m \u001b[0my_train1\u001b[0m\u001b[1;33m)\u001b[0m\u001b[1;33m\u001b[0m\u001b[1;33m\u001b[0m\u001b[0m\n\u001b[0m",
      "\u001b[1;32m<ipython-input-14-76fa19893238>\u001b[0m in \u001b[0;36mNeuralNetFit\u001b[1;34m(X, Y)\u001b[0m\n\u001b[0;32m     27\u001b[0m                 \u001b[0mz\u001b[0m\u001b[1;33m.\u001b[0m\u001b[0mappend\u001b[0m\u001b[1;33m(\u001b[0m\u001b[0mbasic_sigmoid\u001b[0m\u001b[1;33m(\u001b[0m\u001b[0ms\u001b[0m\u001b[1;33m[\u001b[0m\u001b[0mi\u001b[0m\u001b[1;33m]\u001b[0m\u001b[1;33m)\u001b[0m\u001b[1;33m)\u001b[0m \u001b[1;31m#sigmoid(s)\u001b[0m\u001b[1;33m\u001b[0m\u001b[1;33m\u001b[0m\u001b[0m\n\u001b[0;32m     28\u001b[0m             \u001b[0mprint\u001b[0m\u001b[1;33m(\u001b[0m\u001b[0mlen\u001b[0m\u001b[1;33m(\u001b[0m\u001b[0mV\u001b[0m\u001b[1;33m)\u001b[0m\u001b[1;33m)\u001b[0m\u001b[1;33m\u001b[0m\u001b[1;33m\u001b[0m\u001b[0m\n\u001b[1;32m---> 29\u001b[1;33m             \u001b[0mt\u001b[0m \u001b[1;33m=\u001b[0m \u001b[0mV\u001b[0m\u001b[1;33m@\u001b[0m\u001b[0mz\u001b[0m \u001b[1;33m+\u001b[0m \u001b[0mv\u001b[0m\u001b[1;33m\u001b[0m\u001b[1;33m\u001b[0m\u001b[0m\n\u001b[0m\u001b[0;32m     30\u001b[0m \u001b[1;33m\u001b[0m\u001b[0m\n\u001b[0;32m     31\u001b[0m             \u001b[0mg\u001b[0m \u001b[1;33m=\u001b[0m \u001b[0msoftmax\u001b[0m\u001b[1;33m(\u001b[0m\u001b[0mt\u001b[0m\u001b[1;33m)\u001b[0m\u001b[1;33m\u001b[0m\u001b[1;33m\u001b[0m\u001b[0m\n",
      "\u001b[1;31mValueError\u001b[0m: operands could not be broadcast together with shapes (10,) (100,) "
     ]
    }
   ],
   "source": [
    "W,w,V,v=NeuralNetFit(X_train1, y_train1)"
   ]
  },
  {
   "cell_type": "code",
   "execution_count": null,
   "id": "36afe48d",
   "metadata": {},
   "outputs": [],
   "source": [
    "W = np.random.randn(3, 3)\n",
    "W"
   ]
  },
  {
   "cell_type": "code",
   "execution_count": null,
   "id": "c308c9e8",
   "metadata": {},
   "outputs": [],
   "source": [
    "print(W.shape)"
   ]
  },
  {
   "cell_type": "code",
   "execution_count": null,
   "id": "8552f877",
   "metadata": {},
   "outputs": [],
   "source": [
    "print(X_train1.shape)"
   ]
  },
  {
   "cell_type": "code",
   "execution_count": null,
   "id": "5aa8608d",
   "metadata": {},
   "outputs": [],
   "source": [
    "res = []\n",
    "for i in range(100):\n",
    "    x = X_train1[i, :]\n",
    "    y = y_train1[i]\n",
    "            \n",
    "\n",
    "    # Прямой ход\n",
    "    s = W.dot(x)+w\n",
    "    z = [ ]\n",
    "    for i in range(100):\n",
    "        z.append(basic_sigmoid(s[i])) #sigmoid(s) \n",
    "          \n",
    "    t = V@z + v\n",
    "    g = softmax(t)\n",
    "    res.append(g)"
   ]
  },
  {
   "cell_type": "code",
   "execution_count": null,
   "id": "e48b234a",
   "metadata": {},
   "outputs": [],
   "source": [
    "len(res)"
   ]
  },
  {
   "cell_type": "code",
   "execution_count": null,
   "id": "a6183506",
   "metadata": {},
   "outputs": [],
   "source": [
    "res"
   ]
  },
  {
   "cell_type": "code",
   "execution_count": null,
   "id": "7fb1ff87",
   "metadata": {},
   "outputs": [],
   "source": [
    "a = V@basic_sigmoid(W@X+w)+v"
   ]
  },
  {
   "cell_type": "code",
   "execution_count": null,
   "id": "2b77a157",
   "metadata": {},
   "outputs": [],
   "source": [
    "from sklearn.metrics import log_loss\n",
    "log_loss(y_train1,res)"
   ]
  },
  {
   "cell_type": "code",
   "execution_count": null,
   "id": "2aeaf9a1",
   "metadata": {},
   "outputs": [],
   "source": []
  }
 ],
 "metadata": {
  "kernelspec": {
   "display_name": "Python 3",
   "language": "python",
   "name": "python3"
  },
  "language_info": {
   "codemirror_mode": {
    "name": "ipython",
    "version": 3
   },
   "file_extension": ".py",
   "mimetype": "text/x-python",
   "name": "python",
   "nbconvert_exporter": "python",
   "pygments_lexer": "ipython3",
   "version": "3.8.8"
  }
 },
 "nbformat": 4,
 "nbformat_minor": 5
}
